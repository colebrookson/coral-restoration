{
 "cells": [
  {
   "cell_type": "markdown",
   "metadata": {},
   "source": [
    "## First attempt at simulating coral restoration model\n",
    "\n",
    "ODEs: dC/dt = rCT + zrT - dC - aMC, dM/dt = aMC - (gM/(M+T)) + yMT, dT/dt = -dM/dt - dC/dt"
   ]
  },
  {
   "cell_type": "code",
   "execution_count": 22,
   "metadata": {},
   "outputs": [],
   "source": [
    "import numpy as np\n",
    "import scipy.integrate as spi\n",
    "import pandas as pd\n",
    "import matplotlib.pyplot as plt\n",
    "#formats the output of a plot, keeps the plot attached to the cell\n",
    "%matplotlib inline "
   ]
  },
  {
   "cell_type": "code",
   "execution_count": 2,
   "metadata": {},
   "outputs": [],
   "source": [
    "a = [0.1, 0.3, 0.5]  # rate macroalgae overgrow coral\n",
    "g = [0.1, 0.3, 0.5]  # grazing rate\n",
    "z = [0, 0.05, 0.25, 0.5] #rate coral larvae recruit to + overgrow turf\n",
    "r = 0.55 # rate coral overgrow turf\n",
    "d = 0.24 # natural coral mortality rate\n",
    "y = 0.77 #rate macroalgae overgrow turf"
   ]
  },
  {
   "cell_type": "code",
   "execution_count": 68,
   "metadata": {},
   "outputs": [],
   "source": [
    "#test block\n"
   ]
  },
  {
   "cell_type": "code",
   "execution_count": 67,
   "metadata": {},
   "outputs": [
    {
     "data": {
      "text/plain": [
       "array([9.80000000e-01, 9.70000000e-01, 9.60000000e-01, ...,\n",
       "       1.00000000e-02, 1.73472348e-17, 8.67361738e-18])"
      ]
     },
     "execution_count": 67,
     "metadata": {},
     "output_type": "execute_result"
    }
   ],
   "source": [
    "# Set the initial conditions\n",
    "#x and y coords of all of the initial starting points\n",
    "x_coords = np.arange(0.01,1,0.01)\n",
    "M_temp, C_temp = np.meshgrid(x_coords, x_coords) #this makes a mesh grid at those points (the whole square)\n",
    "\n",
    "#only includes the points I want (the lower triangular in M x C space)\n",
    "C_points = C_temp[M_temp + C_temp <=1]\n",
    "M_points = M_temp[M_temp + C_temp <=1]\n",
    "T_points = 1 - C_points - M_points"
   ]
  },
  {
   "cell_type": "code",
   "execution_count": 63,
   "metadata": {},
   "outputs": [
    {
     "name": "stdout",
     "output_type": "stream",
     "text": [
      "Populating the interactive namespace from numpy and matplotlib\n"
     ]
    },
    {
     "name": "stderr",
     "output_type": "stream",
     "text": [
      "/opt/anaconda3/lib/python3.7/site-packages/IPython/core/magics/pylab.py:160: UserWarning: pylab import has clobbered these variables: ['grid']\n",
      "`%matplotlib` prevents importing * from pylab and numpy\n",
      "  \"\\n`%matplotlib` prevents importing * from pylab and numpy\"\n"
     ]
    }
   ],
   "source": [
    "%pylab inline"
   ]
  },
  {
   "cell_type": "code",
   "execution_count": 66,
   "metadata": {},
   "outputs": [
    {
     "data": {
      "text/plain": [
       "<matplotlib.collections.PathCollection at 0x151d4eead0>"
      ]
     },
     "execution_count": 66,
     "metadata": {},
     "output_type": "execute_result"
    },
    {
     "data": {
      "image/png": "[encoded data removed]",
      "text/plain": [
       "<Figure size 432x288 with 1 Axes>"
      ]
     },
     "metadata": {
      "needs_background": "light"
     },
     "output_type": "display_data"
    }
   ],
   "source": [
    "#plot only the parts of the mesh grid that I want to use as initial conditions\n",
    "plt.scatter(C_points, M_points)"
   ]
  },
  {
   "cell_type": "code",
   "execution_count": 77,
   "metadata": {},
   "outputs": [
    {
     "name": "stdout",
     "output_type": "stream",
     "text": [
      "0.01 0.01 0.98\n"
     ]
    }
   ],
   "source": [
    "#run the model\n",
    "from scipy.integrate import solve_ivp\n",
    "a_current = 0.1 #NEED TO CHANGE\n",
    "g_current = 0.1 #NEED TO CHANGE\n",
    "z_current = 0 #NEED TO CHANGE\n",
    "#v[1] = C, v[2] = M, v[3] = T\n",
    "#input the equations into an initial value problem solver (default is RK45)\n",
    "def rhs(s,v): \n",
    "    a = a_current \n",
    "    g = g_current\n",
    "    z = z_current\n",
    "    r = 0.55 # rate coral overgrow turf\n",
    "    d = 0.24 # natural coral mortality rate\n",
    "    y = 0.77 #rate macroalgae overgrow turf\n",
    "    return [r*v[0]*v[2] + z*r*v[2] - d*v[0] - a*v[0]*v[1], a*v[0]*v[1] - (g*v[1])/(v[0]+v[2]) + y*v[1]*v[2],-r*v[0]*v[2] - z*r*v[2] + d*v[0] + (g*v[1])/(v[0]+v[2]) - y*v[1]*v[2]]\n",
    "res = solve_ivp(rhs, (0, 5000), [C_points[0], M_points[0], T_points[0]]) #solves from t =0 -> t = 5000 and for initial values C_points, M_points, T_points\n",
    "print(C_points[0],M_points[0],T_points[0]) #initial values given\n"
   ]
  },
  {
   "cell_type": "code",
   "execution_count": 78,
   "metadata": {},
   "outputs": [
    {
     "data": {
      "text/plain": [
       "[<matplotlib.lines.Line2D at 0x151e1eb3d0>,\n",
       " <matplotlib.lines.Line2D at 0x151e1ef690>,\n",
       " <matplotlib.lines.Line2D at 0x151e1ef850>]"
      ]
     },
     "execution_count": 78,
     "metadata": {},
     "output_type": "execute_result"
    },
    {
     "data": {
      "image/png": "[encoded data removed]",
      "text/plain": [
       "<Figure size 432x288 with 1 Axes>"
      ]
     },
     "metadata": {
      "needs_background": "light"
     },
     "output_type": "display_data"
    }
   ],
   "source": [
    "#plot the output\n",
    "plt.plot(res.t, res.y.T)"
   ]
  },
  {
   "cell_type": "code",
   "execution_count": 80,
   "metadata": {},
   "outputs": [],
   "source": [
    "#TO DO LIST:\n",
    "#figure out a good way to save + plot the output from every single initial condition value on one plot\n",
    "#figure out a better way to loop through the different parameter values as well?"
   ]
  },
  {
   "cell_type": "code",
   "execution_count": null,
   "metadata": {},
   "outputs": [],
   "source": [
    "#Cole's code below here"
   ]
  },
  {
   "cell_type": "code",
   "execution_count": 4,
   "metadata": {},
   "outputs": [],
   "source": [
    "def f(v, t0, k):\n",
    "    # v has four components: v=[u, u'].\n",
    "    u, udot = v[:2], v[2:]\n",
    "    # We compute the second derivative u'' of u.\n",
    "    udotdot = -k / m * udot\n",
    "    udotdot[1] -= g #udotdot[1] = udotdot[1] - g\n",
    "    # We return v'=[u', u''].\n",
    "    return np.r_[udot, udotdot]"
   ]
  },
  {
   "cell_type": "code",
   "execution_count": 5,
   "metadata": {},
   "outputs": [
    {
     "data": {
      "text/plain": [
       "(0, 6)"
      ]
     },
     "execution_count": 5,
     "metadata": {},
     "output_type": "execute_result"
    },
    {
     "data": {
      "image/png": "[encoded data removed]",
      "text/plain": [
       "<Figure size 576x288 with 1 Axes>"
      ]
     },
     "metadata": {
      "needs_background": "light"
     },
     "output_type": "display_data"
    }
   ],
   "source": [
    "fig, ax = plt.subplots(1, 1, figsize=(8, 4))\n",
    "\n",
    "# We want to evaluate the system on 30 linearly\n",
    "# spaced times between t=0 and t=3.\n",
    "t = np.linspace(0., 3., 30)\n",
    "\n",
    "# We simulate the system for different values of k.\n",
    "for k in np.linspace(0., 1., 5):\n",
    "    # We simulate the system and evaluate $v$ on the\n",
    "    # given times.\n",
    "    v = spi.odeint(f, v0, t, args=(k,)) #solver\n",
    "    # We plot the particle's trajectory.\n",
    "    ax.plot(v[:, 0], v[:, 1], 'o-', mew=1, ms=8,\n",
    "            mec='w', label=f'k={k:.1f}')\n",
    "ax.legend()\n",
    "ax.set_xlim(0, 12)\n",
    "ax.set_ylim(0, 6)"
   ]
  },
  {
   "cell_type": "code",
   "execution_count": null,
   "metadata": {},
   "outputs": [],
   "source": [
    "#old code that was half python, half R\n",
    "x_coords = np.arange(0.01,1,0.01) #[start,stop)\n",
    "y_coords = np.arange(0.01,1,0.01)\n",
    "#make dataframe\n",
    "d = {'Num': np.arange(1,((len(x_coords)*len(y_coords))+1),1), 'M1': np.repeat(x_coords,99), 'C1':np.repeat(0,99*99), 'T1':np.repeat(0,99*99)}\n",
    "grid = pd.DataFrame(data = d)\n",
    "#populate C column - want a lower triangle situation in an MxC graph\n",
    "for i in range(0, len(x_coords)):\n",
    "    val = x_coords[i]\n",
    "    #want C+M in each row to be =< 1, hence the 100s\n",
    "    grid.iloc[(((i)*99)):((i)*(99-1)),2] = np.concatenate([np.arange(0.01, 1-val, 0.01), np.repeat(100,i)], axis=0)\n",
    "\n",
    "#remove the 100 rows\n",
    "grid = grid[grid.C1 != 100]\n",
    "grid = grid[-which(is.na(grid$Cinit)),] \n",
    "\n",
    "#populate T column\n",
    "for(i in 1:dim(grid)[1]){\n",
    "grid$Tinit[i] = 1 - grid$Minit[i] - grid$Cinit[i] #the sum of each row should be 1\n",
    "grid$Tinit[i] = round(grid$Tinit[i],digits = 3)\n"
   ]
  }
 ],
 "metadata": {
  "kernelspec": {
   "display_name": "Python 3",
   "language": "python",
   "name": "python3"
  },
  "language_info": {
   "codemirror_mode": {
    "name": "ipython",
    "version": 3
   },
   "file_extension": ".py",
   "mimetype": "text/x-python",
   "name": "python",
   "nbconvert_exporter": "python",
   "pygments_lexer": "ipython3",
   "version": "3.7.6"
  }
 },
 "nbformat": 4,
 "nbformat_minor": 4
}
